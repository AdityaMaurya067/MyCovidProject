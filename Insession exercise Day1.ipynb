{
 "cells": [
  {
   "cell_type": "code",
   "execution_count": 5,
   "metadata": {},
   "outputs": [
    {
     "name": "stdout",
     "output_type": "stream",
     "text": [
      "Percentage change in Gwalior district from 10th june to 12th june 2020 is 8.333333333333332 %\n"
     ]
    }
   ],
   "source": [
    "District=\"Gwalior\"\n",
    "Total_Num_of_infected=1234\n",
    "infected_on_10_june=12\n",
    "infected_on_11_june=2\n",
    "infected_on_12_june=13\n",
    "percentage_change=(infected_on_12_june-infected_on_10_june)/infected_on_10_june*100\n",
    "print(\"Percentage change in Gwalior district from 10th june to 12th june 2020 is {} \" .format(percentage_change)+\"%\")"
   ]
  },
  {
   "cell_type": "code",
   "execution_count": null,
   "metadata": {},
   "outputs": [],
   "source": []
  }
 ],
 "metadata": {
  "kernelspec": {
   "display_name": "Python 3",
   "language": "python",
   "name": "python3"
  },
  "language_info": {
   "codemirror_mode": {
    "name": "ipython",
    "version": 3
   },
   "file_extension": ".py",
   "mimetype": "text/x-python",
   "name": "python",
   "nbconvert_exporter": "python",
   "pygments_lexer": "ipython3",
   "version": "3.8.3"
  }
 },
 "nbformat": 4,
 "nbformat_minor": 4
}
