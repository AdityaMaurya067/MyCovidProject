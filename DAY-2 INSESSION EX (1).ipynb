{
 "cells": [
  {
   "cell_type": "markdown",
   "metadata": {},
   "source": [
    "# IN SESSION EXERCISE #1"
   ]
  },
  {
   "cell_type": "code",
   "execution_count": 9,
   "metadata": {
    "scrolled": true
   },
   "outputs": [
    {
     "data": {
      "text/plain": [
       "{'Maharastra': 187000,\n",
       " 'TamilNadu': 98392,\n",
       " 'Delhi': 92175,\n",
       " 'Gujarat': 33913,\n",
       " 'Karnataka': 18016}"
      ]
     },
     "execution_count": 9,
     "metadata": {},
     "output_type": "execute_result"
    }
   ],
   "source": [
    "States= [\"Maharastra\",\"TamilNadu\",\"Delhi\",\"Gujarat\",\"Karnataka\"]\n",
    "Infected=[187000,98392,92175,33913,18016]\n",
    "Recovered=[101000,56021,63007,24598,8335]\n",
    "Result={States[i]:Infected[i] for i in range(len(Infected))}\n",
    "Result"
   ]
  },
  {
   "cell_type": "markdown",
   "metadata": {},
   "source": [
    "# IN SESSION EXERCISE #2"
   ]
  },
  {
   "cell_type": "code",
   "execution_count": null,
   "metadata": {},
   "outputs": [],
   "source": [
    "district=\"mumbai\"\n",
    "infected=136596\n",
    "recovered=67890\n",
    "deaths=5732\n",
    "def ifr(deaths,infected):\n",
    "    ifr_value=(deaths/infected)*100\n",
    "    print(\" the ifr value is {:.3f}\".format(ifr_value)+\" %\")\n",
    "ifr(deaths,infected)"
   ]
  },
  {
   "cell_type": "code",
   "execution_count": 11,
   "metadata": {},
   "outputs": [
    {
     "name": "stdout",
     "output_type": "stream",
     "text": [
      " the cmr value is 7.79 %\n"
     ]
    }
   ],
   "source": [
    "def cmr(deaths,recovered):\n",
    "    cmr_value=(deaths/(recovered+deaths))*100\n",
    "    print(\" the cmr value is {:.2f}\".format(cmr_value)+\" %\")\n",
    "cmr(deaths,recovered)"
   ]
  },
  {
   "cell_type": "code",
   "execution_count": null,
   "metadata": {},
   "outputs": [],
   "source": []
  }
 ],
 "metadata": {
  "kernelspec": {
   "display_name": "Python 3",
   "language": "python",
   "name": "python3"
  },
  "language_info": {
   "codemirror_mode": {
    "name": "ipython",
    "version": 3
   },
   "file_extension": ".py",
   "mimetype": "text/x-python",
   "name": "python",
   "nbconvert_exporter": "python",
   "pygments_lexer": "ipython3",
   "version": "3.8.3"
  }
 },
 "nbformat": 4,
 "nbformat_minor": 4
}
